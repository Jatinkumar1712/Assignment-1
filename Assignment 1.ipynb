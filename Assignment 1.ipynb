{
 "cells": [
  {
   "cell_type": "code",
   "execution_count": 1,
   "metadata": {},
   "outputs": [
    {
     "name": "stdout",
     "output_type": "stream",
     "text": [
      "Enter a number5\n",
      "Enter another number8\n",
      "8\n",
      "5\n"
     ]
    }
   ],
   "source": [
    "x=input(\"Enter a number\")     #done\n",
    "y=input(\"Enter another number\")\n",
    "if y!=x:\n",
    "    x,y=y,x\n",
    "print(x)\n",
    "print(y)"
   ]
  },
  {
   "cell_type": "code",
   "execution_count": 2,
   "metadata": {},
   "outputs": [
    {
     "name": "stdout",
     "output_type": "stream",
     "text": [
      "Enter a number5\n",
      "odd\n"
     ]
    }
   ],
   "source": [
    "x=int(input(\"Enter a number\")) #done\n",
    "y=int(x%2)\n",
    "if y>0:\n",
    "    print(\"odd\")\n",
    "else:\n",
    "    print(\"even\")"
   ]
  },
  {
   "cell_type": "code",
   "execution_count": 4,
   "metadata": {},
   "outputs": [
    {
     "name": "stdout",
     "output_type": "stream",
     "text": [
      "Enter a number: 5\n",
      "2.23606797749979\n"
     ]
    }
   ],
   "source": [
    "x=float(input(\"Enter a number: \"))  #done\n",
    "y=float(x**0.5)\n",
    "print(y)"
   ]
  },
  {
   "cell_type": "code",
   "execution_count": 26,
   "metadata": {},
   "outputs": [
    {
     "name": "stdout",
     "output_type": "stream",
     "text": [
      "Enter a number8\n",
      "2143.5733333333333\n"
     ]
    }
   ],
   "source": [
    "radius=float(input(\"Enter a number\"))  #done\n",
    "y=float(4/3)*float(3.14)*(float(radius)**3)\n",
    "print(y)\n",
    "    "
   ]
  },
  {
   "cell_type": "code",
   "execution_count": 29,
   "metadata": {},
   "outputs": [
    {
     "name": "stdout",
     "output_type": "stream",
     "text": [
      "0\n",
      "2\n",
      "4\n",
      "6\n",
      "8\n",
      "10\n",
      "12\n",
      "14\n",
      "16\n",
      "18\n",
      "20\n",
      "22\n",
      "24\n",
      "26\n",
      "28\n",
      "30\n",
      "32\n",
      "34\n",
      "36\n",
      "38\n",
      "40\n",
      "42\n",
      "44\n",
      "46\n",
      "48\n",
      "50\n",
      "52\n",
      "54\n",
      "56\n",
      "58\n",
      "60\n",
      "62\n",
      "64\n",
      "66\n",
      "68\n",
      "70\n",
      "72\n",
      "74\n",
      "76\n",
      "78\n",
      "80\n",
      "82\n",
      "84\n",
      "86\n",
      "88\n",
      "90\n",
      "92\n",
      "94\n",
      "96\n",
      "98\n",
      "100\n"
     ]
    }
   ],
   "source": [
    "#for even            #done\n",
    "for i in range(0,101):\n",
    "    if int(i%2)==0:\n",
    "        print(i)\n",
    "    else:\n",
    "        pass"
   ]
  },
  {
   "cell_type": "code",
   "execution_count": 30,
   "metadata": {},
   "outputs": [
    {
     "name": "stdout",
     "output_type": "stream",
     "text": [
      "1\n",
      "3\n",
      "5\n",
      "7\n",
      "9\n",
      "11\n",
      "13\n",
      "15\n",
      "17\n",
      "19\n",
      "21\n",
      "23\n",
      "25\n",
      "27\n",
      "29\n",
      "31\n",
      "33\n",
      "35\n",
      "37\n",
      "39\n",
      "41\n",
      "43\n",
      "45\n",
      "47\n",
      "49\n",
      "51\n",
      "53\n",
      "55\n",
      "57\n",
      "59\n",
      "61\n",
      "63\n",
      "65\n",
      "67\n",
      "69\n",
      "71\n",
      "73\n",
      "75\n",
      "77\n",
      "79\n",
      "81\n",
      "83\n",
      "85\n",
      "87\n",
      "89\n",
      "91\n",
      "93\n",
      "95\n",
      "97\n",
      "99\n"
     ]
    }
   ],
   "source": [
    "#for odd           #done\n",
    "for i in range(0,101):\n",
    "    if int(i%2)>0:\n",
    "        print(i)\n",
    "    else:\n",
    "        pass\n",
    "\n"
   ]
  },
  {
   "cell_type": "code",
   "execution_count": 31,
   "metadata": {},
   "outputs": [
    {
     "name": "stdout",
     "output_type": "stream",
     "text": [
      "Enter a number 1\n",
      "Enter another number3\n",
      "Enter last time1\n",
      "1.0\n",
      "-8.0\n"
     ]
    }
   ],
   "source": [
    "a=int(input(\"Enter a number \"))#done\n",
    "b=int(input(\"Enter another number\"))\n",
    "c=int(input(\"Enter last time\"))\n",
    "if int(b**2)> int(4*a*c):\n",
    "    r1= (int(-b) + int(b**2)- int(4*a*c))/2\n",
    "    r2= (int(-b) - int(b**2)- int(4*a*c))/2\n",
    "print(r1)\n",
    "print(r2)"
   ]
  },
  {
   "cell_type": "code",
   "execution_count": 33,
   "metadata": {},
   "outputs": [
    {
     "name": "stdout",
     "output_type": "stream",
     "text": [
      "Enter a number444\n",
      "3\n"
     ]
    }
   ],
   "source": [
    "a=int(input(\"Enter a number\"))#done\n",
    "b=str(a)\n",
    "print(len(b))\n"
   ]
  },
  {
   "cell_type": "code",
   "execution_count": 8,
   "metadata": {},
   "outputs": [
    {
     "name": "stdout",
     "output_type": "stream",
     "text": [
      "Enter a number45\n",
      "true\n",
      "false\n"
     ]
    }
   ],
   "source": [
    "x=int(input(\"Enter a number\"))\n",
    "for i in range(2,int(x//2)):\n",
    "    if int(x%i) ==0:\n",
    "        print(\"false\")\n",
    "        break\n",
    "    else:\n",
    "        print(\"true\")\n",
    "else:\n",
    "    print(\"false\")\n",
    "    "
   ]
  },
  {
   "cell_type": "code",
   "execution_count": 12,
   "metadata": {},
   "outputs": [
    {
     "name": "stdout",
     "output_type": "stream",
     "text": [
      "Enter a number21\n",
      "21\n"
     ]
    }
   ],
   "source": [
    "x=int(input(\"Enter a number\"))\n",
    "def func(x):\n",
    "    for i in range(1,int(x+1)):\n",
    "        if i%3==0:\n",
    "            pass\n",
    "        if i%5==0:\n",
    "            pass\n",
    "        else:\n",
    "            break\n",
    "        \n",
    "print(x)\n",
    "\n",
    "        "
   ]
  },
  {
   "cell_type": "code",
   "execution_count": 2,
   "metadata": {},
   "outputs": [
    {
     "name": "stdout",
     "output_type": "stream",
     "text": [
      "Enter a number5\n",
      "For computing product type 1, for sum type 21\n",
      "120\n"
     ]
    }
   ],
   "source": [
    "x=int(input(\"Enter a number\"))#done\n",
    "y=int(input(\"For computing product type 1, for sum type 2\"))\n",
    "if y==1:\n",
    "    for i in range(1,x):\n",
    "        x*=i\n",
    "    if y==2:\n",
    "        for i in range(2,x):\n",
    "            x+=i\n",
    "            \n",
    "print(x)"
   ]
  },
  {
   "cell_type": "code",
   "execution_count": 3,
   "metadata": {},
   "outputs": [
    {
     "name": "stdout",
     "output_type": "stream",
     "text": [
      "267333\n"
     ]
    }
   ],
   "source": [
    "a=0     #done\n",
    "for i in range(0,1001):\n",
    "    if i%3==0:\n",
    "        a+=i\n",
    "    else:\n",
    "        pass\n",
    "    if i%5==0:\n",
    "        a+=i\n",
    "print(a)"
   ]
  },
  {
   "cell_type": "code",
   "execution_count": 7,
   "metadata": {},
   "outputs": [
    {
     "name": "stdout",
     "output_type": "stream",
     "text": [
      "2002\n",
      "2009\n",
      "2016\n",
      "2023\n",
      "2030\n",
      "2037\n",
      "2044\n",
      "2051\n",
      "2058\n",
      "2065\n",
      "2072\n",
      "2079\n",
      "2086\n",
      "2093\n",
      "2100\n",
      "2107\n",
      "2114\n",
      "2121\n",
      "2128\n",
      "2135\n",
      "2142\n",
      "2149\n",
      "2156\n",
      "2163\n",
      "2170\n",
      "2177\n",
      "2184\n",
      "2191\n",
      "2198\n",
      "2205\n",
      "2212\n",
      "2219\n",
      "2226\n",
      "2233\n",
      "2240\n",
      "2247\n",
      "2254\n",
      "2261\n",
      "2268\n",
      "2275\n",
      "2282\n",
      "2289\n",
      "2296\n",
      "2303\n",
      "2310\n",
      "2317\n",
      "2324\n",
      "2331\n",
      "2338\n",
      "2345\n",
      "2352\n",
      "2359\n",
      "2366\n",
      "2373\n",
      "2380\n",
      "2387\n",
      "2394\n",
      "2401\n",
      "2408\n",
      "2415\n",
      "2422\n",
      "2429\n",
      "2436\n",
      "2443\n",
      "2450\n",
      "2457\n",
      "2464\n",
      "2471\n",
      "2478\n",
      "2485\n",
      "2492\n",
      "2499\n",
      "2506\n",
      "2513\n",
      "2520\n",
      "2527\n",
      "2534\n",
      "2541\n",
      "2548\n",
      "2555\n",
      "2562\n",
      "2569\n",
      "2576\n",
      "2583\n",
      "2590\n",
      "2597\n",
      "2604\n",
      "2611\n",
      "2618\n",
      "2625\n",
      "2632\n",
      "2639\n",
      "2646\n",
      "2653\n",
      "2660\n",
      "2667\n",
      "2674\n",
      "2681\n",
      "2688\n",
      "2695\n",
      "2702\n",
      "2709\n",
      "2716\n",
      "2723\n",
      "2730\n",
      "2737\n",
      "2744\n",
      "2751\n",
      "2758\n",
      "2765\n",
      "2772\n",
      "2779\n",
      "2786\n",
      "2793\n",
      "2800\n",
      "2807\n",
      "2814\n",
      "2821\n",
      "2828\n",
      "2835\n",
      "2842\n",
      "2849\n",
      "2856\n",
      "2863\n",
      "2870\n",
      "2877\n",
      "2884\n",
      "2891\n",
      "2898\n",
      "2905\n",
      "2912\n",
      "2919\n",
      "2926\n",
      "2933\n",
      "2940\n",
      "2947\n",
      "2954\n",
      "2961\n",
      "2968\n",
      "2975\n",
      "2982\n",
      "2989\n",
      "2996\n",
      "3003\n",
      "3010\n",
      "3017\n",
      "3024\n",
      "3031\n",
      "3038\n",
      "3045\n",
      "3052\n",
      "3059\n",
      "3066\n",
      "3073\n",
      "3080\n",
      "3087\n",
      "3094\n",
      "3101\n",
      "3108\n",
      "3115\n",
      "3122\n",
      "3129\n",
      "3136\n",
      "3143\n",
      "3150\n",
      "3157\n",
      "3164\n",
      "3171\n",
      "3178\n",
      "3185\n",
      "3192\n",
      "3199\n"
     ]
    }
   ],
   "source": [
    "for i in range(2000,3201): #done\n",
    "    if i%7==0:\n",
    "        print(i)\n",
    "    if i%5==0:\n",
    "        continue"
   ]
  },
  {
   "cell_type": "code",
   "execution_count": 9,
   "metadata": {},
   "outputs": [
    {
     "name": "stdout",
     "output_type": "stream",
     "text": [
      "333300\n"
     ]
    }
   ],
   "source": [
    "a=0          #done\n",
    "b=0\n",
    "for i in range(0,101):\n",
    "    a+=int(i**2)\n",
    "for i in range(0,101):\n",
    "    b+=i\n",
    "print(int(a-b))"
   ]
  },
  {
   "cell_type": "code",
   "execution_count": 11,
   "metadata": {},
   "outputs": [
    {
     "name": "stdout",
     "output_type": "stream",
     "text": [
      "enter stopstop\n"
     ]
    }
   ],
   "source": [
    "for i in range(0,):        #partially\n",
    "    print(i)\n",
    "    if x==stop:\n",
    "        break\n",
    "x=input(\"enter stop\")"
   ]
  },
  {
   "cell_type": "code",
   "execution_count": 16,
   "metadata": {},
   "outputs": [
    {
     "name": "stdout",
     "output_type": "stream",
     "text": [
      "Enter a number20\n",
      "3\n",
      "5\n",
      "5\n",
      "5\n",
      "7\n",
      "7\n",
      "7\n",
      "7\n",
      "7\n",
      "9\n",
      "11\n",
      "11\n",
      "11\n",
      "11\n",
      "11\n",
      "11\n",
      "11\n",
      "11\n",
      "11\n",
      "13\n",
      "13\n",
      "13\n",
      "13\n",
      "13\n",
      "13\n",
      "13\n",
      "13\n",
      "13\n",
      "15\n",
      "17\n",
      "17\n",
      "17\n",
      "17\n",
      "17\n",
      "17\n",
      "17\n",
      "17\n",
      "17\n",
      "19\n",
      "19\n",
      "19\n",
      "19\n",
      "19\n",
      "19\n",
      "19\n",
      "19\n",
      "19\n"
     ]
    }
   ],
   "source": [
    "n=int(input(\"Enter a number\"))   done\n",
    "for a in range(2,int(n+1)):\n",
    "    for i in range(2,int(n//2+1)):\n",
    "        if int(a%i)==0:\n",
    "            break\n",
    "        else:\n",
    "            print(a)\n"
   ]
  },
  {
   "cell_type": "code",
   "execution_count": 19,
   "metadata": {},
   "outputs": [
    {
     "name": "stdout",
     "output_type": "stream",
     "text": [
      "Enter a number: 4\n",
      "24\n"
     ]
    }
   ],
   "source": [
    "x=int(input(\"Enter a number: \"))   #done\n",
    "for i in range(1,x):\n",
    "    x*=i\n",
    "print(x)"
   ]
  },
  {
   "cell_type": "code",
   "execution_count": null,
   "metadata": {},
   "outputs": [],
   "source": [
    "x=int(input(\"Enter a number: \"))   #partially\n",
    "y=int(input(\"Enter another number: \"))\n",
    "if x>y:\n",
    "    max=x\n",
    "else:\n",
    "    max=y\n",
    "while(True):\n",
    "    if(max%a==0 and max%b==0):\n",
    "        print(\"lcm of \"+x+ \" and \"+y +\" is\")"
   ]
  },
  {
   "cell_type": "code",
   "execution_count": 1,
   "metadata": {},
   "outputs": [
    {
     "name": "stdout",
     "output_type": "stream",
     "text": [
      "Enter a number :5\n",
      "\n",
      "*\n",
      "**\n",
      "***\n",
      "****\n",
      "*****\n"
     ]
    }
   ],
   "source": [
    "x=int(input(\"Enter a number :\"))\n",
    "for i in range (0,int(x+1)):\n",
    "    print(\"*\"*i)"
   ]
  },
  {
   "cell_type": "code",
   "execution_count": 7,
   "metadata": {},
   "outputs": [
    {
     "name": "stdout",
     "output_type": "stream",
     "text": [
      "Enter a number : 6\n",
      "*  *  *  *  *  *  \n",
      "*  *  *  *  *  \n",
      "*  *  *  *  \n",
      "*  *  *  \n",
      "*  *  \n",
      "*  \n"
     ]
    }
   ],
   "source": [
    "x=int(input(\"Enter a number : \"))   #done\n",
    "for i in range(0,x):\n",
    "    for j in range(x,i,-1):\n",
    "        print(\"* \", end=\" \")\n",
    "    print()"
   ]
  },
  {
   "cell_type": "code",
   "execution_count": 8,
   "metadata": {},
   "outputs": [
    {
     "name": "stdout",
     "output_type": "stream",
     "text": [
      "Enter a number :5\n",
      "\n",
      "1\n",
      "22\n",
      "333\n",
      "4444\n"
     ]
    }
   ],
   "source": [
    "x=int(input(\"Enter a number :\")) #done\n",
    "for i in range(0,x):\n",
    "    print(i*str(i))"
   ]
  },
  {
   "cell_type": "code",
   "execution_count": 11,
   "metadata": {},
   "outputs": [
    {
     "name": "stdout",
     "output_type": "stream",
     "text": [
      "Enter a number : 5\n",
      "     \n",
      "    *\n",
      "   ***\n",
      "  *****\n",
      " *******\n"
     ]
    }
   ],
   "source": [
    "x=int(input(\"Enter a number : \"))\n",
    "for i in range(0,x):\n",
    "    print(int(x-i)*\" \"+\"*\"*(int(2*i)-1))"
   ]
  },
  {
   "cell_type": "code",
   "execution_count": null,
   "metadata": {},
   "outputs": [],
   "source": []
  },
  {
   "cell_type": "code",
   "execution_count": null,
   "metadata": {},
   "outputs": [],
   "source": [
    "5\n"
   ]
  }
 ],
 "metadata": {
  "kernelspec": {
   "display_name": "Python 3",
   "language": "python",
   "name": "python3"
  },
  "language_info": {
   "codemirror_mode": {
    "name": "ipython",
    "version": 3
   },
   "file_extension": ".py",
   "mimetype": "text/x-python",
   "name": "python",
   "nbconvert_exporter": "python",
   "pygments_lexer": "ipython3",
   "version": "3.7.3"
  }
 },
 "nbformat": 4,
 "nbformat_minor": 2
}
